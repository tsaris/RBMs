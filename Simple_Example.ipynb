{
 "cells": [
  {
   "cell_type": "code",
   "execution_count": 1,
   "metadata": {
    "collapsed": true
   },
   "outputs": [],
   "source": [
    "from __future__ import print_function"
   ]
  },
  {
   "cell_type": "code",
   "execution_count": 2,
   "metadata": {},
   "outputs": [
    {
     "name": "stderr",
     "output_type": "stream",
     "text": [
      "Using TensorFlow backend.\n"
     ]
    }
   ],
   "source": [
    "import numpy as np\n",
    "import matplotlib.pyplot as plt\n",
    "\n",
    "from keras.models import Sequential\n",
    "from keras.layers import Dense\n",
    "from keras.layers import Dropout\n",
    "from keras.utils import np_utils\n",
    "\n",
    "%matplotlib inline"
   ]
  },
  {
   "cell_type": "code",
   "execution_count": 3,
   "metadata": {},
   "outputs": [
    {
     "name": "stdout",
     "output_type": "stream",
     "text": [
      "(16000, 64, 64) (4000, 64, 64)\n"
     ]
    }
   ],
   "source": [
    "images = np.load('toy_data/dataset_basicshape_v0_image.npy')\n",
    "X_train = images[:16000]\n",
    "X_test  = images[16000:20000]\n",
    "print(X_train.shape, X_test.shape)"
   ]
  },
  {
   "cell_type": "code",
   "execution_count": 4,
   "metadata": {},
   "outputs": [
    {
     "data": {
      "text/plain": [
       "<matplotlib.image.AxesImage at 0x147559750>"
      ]
     },
     "execution_count": 4,
     "metadata": {},
     "output_type": "execute_result"
    },
    {
     "data": {
      "image/png": "[encoded data removed]",
      "text/plain": [
       "<matplotlib.figure.Figure at 0x1203b4410>"
      ]
     },
     "metadata": {},
     "output_type": "display_data"
    }
   ],
   "source": [
    "plt.imshow(X_train[0])"
   ]
  },
  {
   "cell_type": "code",
   "execution_count": 5,
   "metadata": {},
   "outputs": [],
   "source": [
    "num_pixels = X_train.shape[1] * X_train.shape[2]\n",
    "\n",
    "X_train = X_train.reshape(X_train.shape[0], num_pixels).astype('float32')\n",
    "X_train = X_train / 255\n",
    "\n",
    "X_test = X_test.reshape(X_test.shape[0], num_pixels).astype('float32')\n",
    "X_test = X_test / 255"
   ]
  },
  {
   "cell_type": "code",
   "execution_count": 6,
   "metadata": {
    "collapsed": true
   },
   "outputs": [],
   "source": [
    "labels = np.genfromtxt('toy_data/dataset_basicshape_v0_catalog.csv', delimiter=',')\n",
    "labels = labels[:,[5]].astype(int)\n",
    "y_train = labels[:16000]\n",
    "y_test = labels[16000:20000]\n",
    "\n",
    "y_train = np_utils.to_categorical(y_train)\n",
    "y_test = np_utils.to_categorical(y_test)\n",
    "num_classes = y_train.shape[1]"
   ]
  },
  {
   "cell_type": "code",
   "execution_count": 7,
   "metadata": {
    "collapsed": true
   },
   "outputs": [],
   "source": [
    "def baseline_model():\n",
    "\t# create model\n",
    "\tmodel = Sequential()\n",
    "\tmodel.add(Dense(num_pixels, input_dim=num_pixels, kernel_initializer='normal', activation='relu'))\n",
    "\tmodel.add(Dense(num_classes, kernel_initializer='normal', activation='softmax'))\n",
    "\t# Compile model\n",
    "\tmodel.compile(loss='categorical_crossentropy', optimizer='adam', metrics=['accuracy'])\n",
    "\treturn model"
   ]
  },
  {
   "cell_type": "code",
   "execution_count": 9,
   "metadata": {},
   "outputs": [
    {
     "name": "stdout",
     "output_type": "stream",
     "text": [
      "Train on 16000 samples, validate on 4000 samples\n",
      "Epoch 1/10\n",
      "16000/16000 [==============================] - 28s 2ms/step - loss: 0.6697 - acc: 0.5666 - val_loss: 0.6427 - val_acc: 0.5910\n",
      "Epoch 2/10\n",
      "16000/16000 [==============================] - 31s 2ms/step - loss: 0.6082 - acc: 0.6444 - val_loss: 0.5600 - val_acc: 0.7170\n",
      "Epoch 3/10\n",
      "16000/16000 [==============================] - 30s 2ms/step - loss: 0.5137 - acc: 0.7377 - val_loss: 0.4899 - val_acc: 0.7190\n",
      "Epoch 4/10\n",
      "16000/16000 [==============================] - 29s 2ms/step - loss: 0.4304 - acc: 0.7983 - val_loss: 0.4053 - val_acc: 0.8175\n",
      "Epoch 5/10\n",
      "16000/16000 [==============================] - 31s 2ms/step - loss: 0.3712 - acc: 0.8346 - val_loss: 0.3738 - val_acc: 0.8225\n",
      "Epoch 6/10\n",
      "16000/16000 [==============================] - 30s 2ms/step - loss: 0.3300 - acc: 0.8577 - val_loss: 0.3348 - val_acc: 0.8330\n",
      "Epoch 7/10\n",
      "16000/16000 [==============================] - 31s 2ms/step - loss: 0.2922 - acc: 0.8796 - val_loss: 0.3088 - val_acc: 0.8480\n",
      "Epoch 8/10\n",
      "16000/16000 [==============================] - 33s 2ms/step - loss: 0.2647 - acc: 0.8935 - val_loss: 0.2862 - val_acc: 0.8570\n",
      "Epoch 9/10\n",
      "16000/16000 [==============================] - 34s 2ms/step - loss: 0.2443 - acc: 0.8994 - val_loss: 0.2661 - val_acc: 0.8760\n",
      "Epoch 10/10\n",
      "16000/16000 [==============================] - 33s 2ms/step - loss: 0.2248 - acc: 0.9123 - val_loss: 0.2643 - val_acc: 0.8627\n",
      "Baseline Error: 13.72%\n"
     ]
    }
   ],
   "source": [
    "model = baseline_model()\n",
    "# Fit the model\n",
    "model.fit(X_train, y_train, validation_data=(X_test, y_test), epochs=10, batch_size=200, verbose=1)\n",
    "# Final evaluation of the model\n",
    "scores = model.evaluate(X_test, y_test, verbose=0)\n",
    "print(\"Baseline Error: %.2f%%\" % (100-scores[1]*100))"
   ]
  },
  {
   "cell_type": "code",
   "execution_count": null,
   "metadata": {
    "collapsed": true
   },
   "outputs": [],
   "source": []
  }
 ],
 "metadata": {
  "kernelspec": {
   "display_name": "Python [default]",
   "language": "python",
   "name": "python2"
  },
  "language_info": {
   "codemirror_mode": {
    "name": "ipython",
    "version": 2
   },
   "file_extension": ".py",
   "mimetype": "text/x-python",
   "name": "python",
   "nbconvert_exporter": "python",
   "pygments_lexer": "ipython2",
   "version": "2.7.13"
  }
 },
 "nbformat": 4,
 "nbformat_minor": 2
}
