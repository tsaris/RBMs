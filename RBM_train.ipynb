{
 "cells": [
  {
   "cell_type": "code",
   "execution_count": 1,
   "metadata": {
    "collapsed": true
   },
   "outputs": [],
   "source": [
    "from __future__ import print_function"
   ]
  },
  {
   "cell_type": "code",
   "execution_count": 2,
   "metadata": {},
   "outputs": [
    {
     "name": "stderr",
     "output_type": "stream",
     "text": [
      "Using TensorFlow backend.\n"
     ]
    }
   ],
   "source": [
    "import numpy as np\n",
    "import random\n",
    "import matplotlib.pyplot as plt\n",
    "from keras.utils import np_utils\n",
    "\n",
    "from RBM import *\n",
    "\n",
    "%matplotlib inline"
   ]
  },
  {
   "cell_type": "code",
   "execution_count": 3,
   "metadata": {},
   "outputs": [
    {
     "name": "stdout",
     "output_type": "stream",
     "text": [
      "(800, 64, 64) (200, 64, 64)\n"
     ]
    }
   ],
   "source": [
    "images = np.load('toy_data/dataset_basicshape_v0_image.npy')\n",
    "X_train = images[:800]\n",
    "X_test  = images[800:1000]\n",
    "print(X_train.shape, X_test.shape)"
   ]
  },
  {
   "cell_type": "code",
   "execution_count": 4,
   "metadata": {},
   "outputs": [],
   "source": [
    "num_pixels = X_train.shape[1] * X_train.shape[2]\n",
    "X_train = X_train.reshape(X_train.shape[0], num_pixels).astype('float32').T/255\n",
    "X_test = X_test.reshape(X_test.shape[0], num_pixels).astype('float32').T/255"
   ]
  },
  {
   "cell_type": "code",
   "execution_count": 5,
   "metadata": {},
   "outputs": [],
   "source": [
    "labels = np.genfromtxt('toy_data/dataset_basicshape_v0_catalog.csv', delimiter=',')\n",
    "labels = labels[:,[5]].astype(int)\n",
    "y_train = labels[:800]\n",
    "y_test = labels[800:1000]\n",
    "\n",
    "y_train = np_utils.to_categorical(y_train)\n",
    "y_test = np_utils.to_categorical(y_test)\n",
    "num_classes = y_train.shape[1]"
   ]
  },
  {
   "cell_type": "code",
   "execution_count": 6,
   "metadata": {
    "collapsed": true
   },
   "outputs": [],
   "source": [
    "rbm = RBM(v_dim = num_pixels, h_dim = 1000)"
   ]
  },
  {
   "cell_type": "code",
   "execution_count": 7,
   "metadata": {},
   "outputs": [
    {
     "name": "stdout",
     "output_type": "stream",
     "text": [
      "Epoch 1\n",
      "Reconstruction MSE = 0.36\n",
      "Epoch 2\n",
      "Reconstruction MSE = 0.00\n",
      "Epoch 3\n",
      "Reconstruction MSE = 0.00\n",
      "Epoch 4\n",
      "Reconstruction MSE = 0.00\n",
      "Epoch 5\n",
      "Reconstruction MSE = 0.00\n"
     ]
    }
   ],
   "source": [
    "rbm.train(X_train, epochs = 5, batch_size = 20, learning_rate = .1, plot=False)"
   ]
  },
  {
   "cell_type": "code",
   "execution_count": 8,
   "metadata": {},
   "outputs": [],
   "source": [
    "rbm.save('weightsRBM/test')"
   ]
  },
  {
   "cell_type": "code",
   "execution_count": 9,
   "metadata": {
    "collapsed": true
   },
   "outputs": [],
   "source": [
    "weights = rbm = rbm.from_File(\"weightsRBM/test\")"
   ]
  },
  {
   "cell_type": "code",
   "execution_count": 10,
   "metadata": {},
   "outputs": [],
   "source": [
    "image_no = 5\n",
    "v,_ = rbm.gibbs_sampling(1,1,X_train[:,image_no].reshape((num_pixels,1)))"
   ]
  },
  {
   "cell_type": "code",
   "execution_count": 11,
   "metadata": {},
   "outputs": [
    {
     "data": {
      "image/png": "[encoded data removed]",
      "text/plain": [
       "<matplotlib.figure.Figure at 0x13e847c90>"
      ]
     },
     "metadata": {},
     "output_type": "display_data"
    }
   ],
   "source": [
    "f, ax = plt.subplots(1,3, sharex=True)\n",
    "ax[0].imshow(X_train[:,image_no].reshape((64,64)),cmap=plt.cm.gray)\n",
    "ax[0].axis('off')\n",
    "ax[0].set_title(\"Original greyscale\")\n",
    "ax[1].imshow(X_train[:,image_no].reshape((64,64)),cmap=plt.cm.gray)\n",
    "ax[1].axis('off')\n",
    "ax[1].set_title(\"Original B&W\")\n",
    "ax[2].imshow(v.reshape((64,64)),cmap=plt.cm.gray)\n",
    "ax[2].axis('off')\n",
    "ax[2].set_title(\"Reconstructed\")\n",
    "plt.show()"
   ]
  },
  {
   "cell_type": "code",
   "execution_count": null,
   "metadata": {
    "collapsed": true
   },
   "outputs": [],
   "source": []
  }
 ],
 "metadata": {
  "kernelspec": {
   "display_name": "Python [default]",
   "language": "python",
   "name": "python2"
  },
  "language_info": {
   "codemirror_mode": {
    "name": "ipython",
    "version": 2
   },
   "file_extension": ".py",
   "mimetype": "text/x-python",
   "name": "python",
   "nbconvert_exporter": "python",
   "pygments_lexer": "ipython2",
   "version": "2.7.13"
  }
 },
 "nbformat": 4,
 "nbformat_minor": 2
}
